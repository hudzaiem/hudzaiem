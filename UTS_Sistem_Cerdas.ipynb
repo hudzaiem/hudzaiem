{
  "nbformat": 4,
  "nbformat_minor": 0,
  "metadata": {
    "colab": {
      "name": "UTS Sistem Cerdas.ipynb",
      "provenance": [],
      "collapsed_sections": [],
      "toc_visible": true,
      "include_colab_link": true
    },
    "kernelspec": {
      "name": "python3",
      "display_name": "Python 3"
    },
    "language_info": {
      "name": "python"
    }
  },
  "cells": [
    {
      "cell_type": "markdown",
      "metadata": {
        "id": "view-in-github",
        "colab_type": "text"
      },
      "source": [
        "<a href=\"https://colab.research.google.com/github/hudzaiem/hudzaiem/blob/master/UTS_Sistem_Cerdas.ipynb\" target=\"_parent\"><img src=\"https://colab.research.google.com/assets/colab-badge.svg\" alt=\"Open In Colab\"/></a>"
      ]
    },
    {
      "cell_type": "markdown",
      "metadata": {
        "id": "IJAt1fCuZWzW"
      },
      "source": [
        "## **UTS Sistem Cerdas**\n",
        "# Anggota Kelompok:\n",
        "1.  Muhammad Farhan Dirhami  (G64170099)\n",
        "2.  Fadil Risdian Ansori     (G64180111)\n",
        "3.  Arrazaq Adrian           (G64180109)\n",
        "4.  Fathan Fatazka           (G64180118)\n",
        "5.  Hudzaifah Muttaqin       (G64180119)\n",
        "\n",
        "\n",
        "\n"
      ]
    },
    {
      "cell_type": "markdown",
      "metadata": {
        "id": "kpC_4n9Xh_0S"
      },
      "source": [
        "# **Soal**\n",
        "Perhatikan 60 observasi dari 3 kelas (kelas 1, kelas 2 dan kelas 3) yang masing-masing objek diamati 3 peubah (yaitu X1, X2, dan X3). Oleh karena mahalnya melakukan pengukuran terhadap kelas, maka beberapa tidak diketahui kelasnya (ND=No Data), tetapi hanya bisa diamati peubah X1 hingga X3-nya. Berdasar data tersebut, anda diminta untuk mendapatkan model LVQ terbaik, dan tentukan tingkat akurasi dari model terbaiknya tersebut. Silakan dikerjakan berkelompok (1 kelompok terdiri 5 orang), dan dikumpulkan paling lambat 24 April ke email : agusbuono@apps.ipb.ac.id (silakan dikerjakan dengan bantuan komputer)\n",
        "Pertanyaan:\n",
        "\n",
        "\n",
        "1.   Bagilah data menjadi data training, data validasi dan data uji.\n",
        "2.   Hitung akurasi model terbaik untuk data uji yg anda tentukan.\n",
        "\n"
      ]
    },
    {
      "cell_type": "markdown",
      "metadata": {
        "id": "vZfjX0_eidsi"
      },
      "source": [
        "# **Jawaban**\n",
        "## Praproses Data\n",
        "### 1. Membaca Data\n"
      ]
    },
    {
      "cell_type": "code",
      "metadata": {
        "id": "Nn0jq3wpkqsG"
      },
      "source": [
        "import pandas as pd\n",
        "import numpy as np"
      ],
      "execution_count": 4,
      "outputs": []
    },
    {
      "cell_type": "code",
      "metadata": {
        "id": "XC1dVi2IkIVK"
      },
      "source": [
        "# dataset dibaca dari github dan dibaca menggunakan read_csv pada library pandas\n",
        "path = \"https://github.com/hudzaiem/hudzaiem/raw/master/Sisdas_UTS_dataset.csv\"\n",
        "df1 = pd.read_csv(path, header=0)\n",
        "df = pd.DataFrame(df1, index=np.arange(0,60))\n",
        "df = df.drop(columns=[\"Unnamed: 0\"])\n",
        "# Agar index dimulai dari 1, digunakan fungsi df.index += 1 \n",
        "df.index += 1\n",
        "df"
      ],
      "execution_count": null,
      "outputs": []
    },
    {
      "cell_type": "markdown",
      "metadata": {
        "id": "Gm6feLzd0VN1"
      },
      "source": [
        "### Membagi Data"
      ]
    },
    {
      "cell_type": "code",
      "metadata": {
        "id": "FWpAgcENfn04"
      },
      "source": [
        "# menggunakan package sklearn_lvq untuk algoritma lvq\n",
        "pip install sklearn_lvq"
      ],
      "execution_count": null,
      "outputs": []
    },
    {
      "cell_type": "code",
      "metadata": {
        "id": "RH86ntUDbQmN"
      },
      "source": [
        "from sklearn.model_selection import train_test_split"
      ],
      "execution_count": 22,
      "outputs": []
    },
    {
      "cell_type": "code",
      "metadata": {
        "id": "NIOLH-Y90ZDt"
      },
      "source": [
        "data = df[df[\"kelas\"].isna() == False]\n",
        "# Mengubah tipe data atribut \"kelas\", dari float menjadi integer agar bisa diproses pada klasifikasi\n",
        "data[\"kelas\"] = data.kelas.astype(\"int64\")\n",
        "data"
      ],
      "execution_count": null,
      "outputs": []
    },
    {
      "cell_type": "code",
      "metadata": {
        "id": "IPQyRCkN6_ww"
      },
      "source": [
        "# Untuk melihat overview typedata dari data\n",
        "data.dtypes"
      ],
      "execution_count": null,
      "outputs": []
    },
    {
      "cell_type": "code",
      "metadata": {
        "id": "7dhOkf950tSb"
      },
      "source": [
        "# Mengambil data untuk ditest menggunakan model menggunakan dataframe awal tanpa atribut kelas yang Na\n",
        "datatest = df[df[\"kelas\"].isna()==True].drop([\"kelas\"],1)\n",
        "datatest"
      ],
      "execution_count": null,
      "outputs": []
    },
    {
      "cell_type": "code",
      "metadata": {
        "id": "75JuWq3MbdkG"
      },
      "source": [
        "x = data.drop([\"kelas\"],axis=1)\n",
        "y = data[\"kelas\"]\n",
        "# Membagi data train dan data validasi menggunakan train_test_split\n",
        "data_train, data_valid,kelas_train,kelas_valid = train_test_split(x,y,train_size = 0.5,random_state = 42)"
      ],
      "execution_count": 241,
      "outputs": []
    },
    {
      "cell_type": "markdown",
      "metadata": {
        "id": "85nzxqVCfO5_"
      },
      "source": [
        "## Membuat Model"
      ]
    },
    {
      "cell_type": "markdown",
      "metadata": {
        "id": "K_utqamGsmsE"
      },
      "source": [
        "### Menggunakan Rslvq"
      ]
    },
    {
      "cell_type": "code",
      "metadata": {
        "id": "BBSu7pdpf65g"
      },
      "source": [
        "from sklearn_lvq import RslvqModel\n",
        "from sklearn_lvq.utils import plot2d\n",
        "from sklearn.metrics import f1_score\n",
        "import matplotlib.pyplot as plt"
      ],
      "execution_count": 138,
      "outputs": []
    },
    {
      "cell_type": "code",
      "metadata": {
        "colab": {
          "base_uri": "https://localhost:8080/"
        },
        "id": "d6hYWh_sltnR",
        "outputId": "86b7e15b-d254-4ca2-9526-ad08dce0b25f"
      },
      "source": [
        "#Membuat Model menggunakan fungsi Rslvq\n",
        "model = RslvqModel()\n",
        "# Membuat model menggunakan data train\n",
        "model.fit(data_train,kelas_train)\n",
        "# Membuat prediksi kelas dari data validasi menggunakan model yang sebelumnya dibuat\n",
        "kelas_prediksi = model.predict(data_valid)\n",
        "kelas_prediksi"
      ],
      "execution_count": 242,
      "outputs": [
        {
          "output_type": "execute_result",
          "data": {
            "text/plain": [
              "array([2, 3, 1, 3, 2, 1, 1, 2, 1, 3, 3, 3, 3, 2, 1, 2, 3, 1, 1])"
            ]
          },
          "metadata": {
            "tags": []
          },
          "execution_count": 242
        }
      ]
    },
    {
      "cell_type": "code",
      "metadata": {
        "colab": {
          "base_uri": "https://localhost:8080/"
        },
        "id": "qrZi8Py8vcwi",
        "outputId": "ad1c3496-9b62-48ef-ddc6-22c53056f51d"
      },
      "source": [
        "#Menghitung Akurasi prediksi model\n",
        "print(\"Akurasi prediksi menggunakan Rslvq:\", model.score(data_train,kelas_train))"
      ],
      "execution_count": 243,
      "outputs": [
        {
          "output_type": "stream",
          "text": [
            "Akurasi prediksi menggunakan Rslvq: 0.9473684210526315\n"
          ],
          "name": "stdout"
        }
      ]
    },
    {
      "cell_type": "code",
      "metadata": {
        "colab": {
          "base_uri": "https://localhost:8080/"
        },
        "id": "ZnUAHLflm-hT",
        "outputId": "b5a45061-9c1c-4c9a-d355-1c5f2a892f78"
      },
      "source": [
        "#Menghitung akurasi dari kelas_validasi dengan kelas prediksi yang digenerate sebelumnya\n",
        "f1_score(kelas_valid,kelas_prediksi, average=\"micro\")"
      ],
      "execution_count": 244,
      "outputs": [
        {
          "output_type": "execute_result",
          "data": {
            "text/plain": [
              "0.8421052631578947"
            ]
          },
          "metadata": {
            "tags": []
          },
          "execution_count": 244
        }
      ]
    },
    {
      "cell_type": "code",
      "metadata": {
        "id": "xMf2pwlhnZCJ"
      },
      "source": [
        "hasil = data_valid.join(kelas_valid)\n",
        "# Membuat tabel untuk membandingkan antara data validasi dengan hasil prediksi\n",
        "perbandingan = hasil.assign(kelas_prediksi = kelas_prediksi)\n",
        "perbandingan"
      ],
      "execution_count": null,
      "outputs": []
    },
    {
      "cell_type": "markdown",
      "metadata": {
        "id": "xQgvZgo7stUJ"
      },
      "source": [
        "### Menggunakan Glvq"
      ]
    },
    {
      "cell_type": "code",
      "metadata": {
        "id": "Pi9QkBvEs_ju"
      },
      "source": [
        "from sklearn_lvq import GlvqModel\n",
        "from sklearn_lvq.utils import plot2d\n",
        "from sklearn.metrics import f1_score\n",
        "import matplotlib.pyplot as plt"
      ],
      "execution_count": 67,
      "outputs": []
    },
    {
      "cell_type": "code",
      "metadata": {
        "colab": {
          "base_uri": "https://localhost:8080/"
        },
        "id": "dJg_b8p4tQp8",
        "outputId": "89b620be-ec3d-41de-e105-4336546b3021"
      },
      "source": [
        "#Membuat Model menggunakan fungsi Glvq()\n",
        "modelG = GlvqModel()\n",
        "# Membuat model menggunakan data train\n",
        "modelG.fit(data_train,kelas_train)\n",
        "# Membuat prediksi kelas dari data validasi menggunakan model yang sebelumnya dibuat\n",
        "kelas_prediksiG = modelG.predict(data_valid)\n",
        "kelas_prediksiG"
      ],
      "execution_count": 245,
      "outputs": [
        {
          "output_type": "execute_result",
          "data": {
            "text/plain": [
              "array([2, 3, 1, 3, 2, 1, 1, 1, 1, 3, 3, 3, 3, 2, 1, 2, 3, 1, 1])"
            ]
          },
          "metadata": {
            "tags": []
          },
          "execution_count": 245
        }
      ]
    },
    {
      "cell_type": "code",
      "metadata": {
        "colab": {
          "base_uri": "https://localhost:8080/"
        },
        "id": "oaiQ2iIsu39o",
        "outputId": "bffc105a-e816-4e50-d7e0-6d7ab56daba6"
      },
      "source": [
        "#Menghitung Akurasi prediksi model\n",
        "print(\"Akurasi prediksi menggunakan Glvq:\", modelG.score(data_train,kelas_train))"
      ],
      "execution_count": 246,
      "outputs": [
        {
          "output_type": "stream",
          "text": [
            "Akurasi prediksi menggunakan Glvq: 0.7894736842105263\n"
          ],
          "name": "stdout"
        }
      ]
    },
    {
      "cell_type": "code",
      "metadata": {
        "colab": {
          "base_uri": "https://localhost:8080/"
        },
        "id": "v6qSVAEJt293",
        "outputId": "1cc79cc7-ba94-48c5-9d8c-7c835c19f0fc"
      },
      "source": [
        "#Menghitung akurasi dari kelas_validasi dengan kelas prediksi yang digenerate sebelumnya\n",
        "f1_score(kelas_valid,kelas_prediksiG, average=\"micro\")"
      ],
      "execution_count": 247,
      "outputs": [
        {
          "output_type": "execute_result",
          "data": {
            "text/plain": [
              "0.7894736842105263"
            ]
          },
          "metadata": {
            "tags": []
          },
          "execution_count": 247
        }
      ]
    },
    {
      "cell_type": "code",
      "metadata": {
        "id": "uDob_dRQt5H4"
      },
      "source": [
        "hasilG = data_valid.join(kelas_valid)\n",
        "# Membuat tabel untuk membandingkan antara data validasi dengan hasil prediksi\n",
        "perbandinganG = hasilG.assign(kelas_prediksi = kelas_prediksiG)\n",
        "perbandinganG"
      ],
      "execution_count": null,
      "outputs": []
    },
    {
      "cell_type": "markdown",
      "metadata": {
        "id": "WT9I82eqv6oC"
      },
      "source": [
        "## Memodelkan Pada Data test"
      ]
    },
    {
      "cell_type": "markdown",
      "metadata": {
        "id": "gJsq-rUB4ChR"
      },
      "source": [
        "Karena akurasi menggunakan Rslvq() lebih besar dibanding Glvq(), maka kami menggunakan model yang dibuat menggunakan Rslvq()"
      ]
    },
    {
      "cell_type": "code",
      "metadata": {
        "colab": {
          "base_uri": "https://localhost:8080/",
          "height": 731
        },
        "id": "VGDPemFJwkWB",
        "outputId": "92fa835b-9f44-4be3-c045-952618c03c52"
      },
      "source": [
        "# Mengklasifikasi datatest dengan model Rslvq yang sudah dimodelkan sebelumnya\n",
        "datatest_predict = model.predict(datatest)\n",
        "result = datatest.copy()\n",
        "# membuat Tabel dengan hasil klasifikasi berdasarkan pemodelan dengan model \n",
        "result = result.assign(Kelas = datatest_predict)\n",
        "result"
      ],
      "execution_count": 250,
      "outputs": [
        {
          "output_type": "execute_result",
          "data": {
            "text/html": [
              "<div>\n",
              "<style scoped>\n",
              "    .dataframe tbody tr th:only-of-type {\n",
              "        vertical-align: middle;\n",
              "    }\n",
              "\n",
              "    .dataframe tbody tr th {\n",
              "        vertical-align: top;\n",
              "    }\n",
              "\n",
              "    .dataframe thead th {\n",
              "        text-align: right;\n",
              "    }\n",
              "</style>\n",
              "<table border=\"1\" class=\"dataframe\">\n",
              "  <thead>\n",
              "    <tr style=\"text-align: right;\">\n",
              "      <th></th>\n",
              "      <th>x1</th>\n",
              "      <th>x2</th>\n",
              "      <th>x3</th>\n",
              "      <th>Kelas</th>\n",
              "    </tr>\n",
              "  </thead>\n",
              "  <tbody>\n",
              "    <tr>\n",
              "      <th>3</th>\n",
              "      <td>6.2</td>\n",
              "      <td>6.2</td>\n",
              "      <td>6.1</td>\n",
              "      <td>1</td>\n",
              "    </tr>\n",
              "    <tr>\n",
              "      <th>5</th>\n",
              "      <td>5.9</td>\n",
              "      <td>5.9</td>\n",
              "      <td>5.7</td>\n",
              "      <td>1</td>\n",
              "    </tr>\n",
              "    <tr>\n",
              "      <th>9</th>\n",
              "      <td>5.9</td>\n",
              "      <td>6.1</td>\n",
              "      <td>5.6</td>\n",
              "      <td>1</td>\n",
              "    </tr>\n",
              "    <tr>\n",
              "      <th>11</th>\n",
              "      <td>6.2</td>\n",
              "      <td>6.8</td>\n",
              "      <td>7.5</td>\n",
              "      <td>2</td>\n",
              "    </tr>\n",
              "    <tr>\n",
              "      <th>15</th>\n",
              "      <td>6.6</td>\n",
              "      <td>6.4</td>\n",
              "      <td>4.6</td>\n",
              "      <td>1</td>\n",
              "    </tr>\n",
              "    <tr>\n",
              "      <th>16</th>\n",
              "      <td>6.1</td>\n",
              "      <td>6.7</td>\n",
              "      <td>5.8</td>\n",
              "      <td>2</td>\n",
              "    </tr>\n",
              "    <tr>\n",
              "      <th>19</th>\n",
              "      <td>5.0</td>\n",
              "      <td>5.6</td>\n",
              "      <td>5.8</td>\n",
              "      <td>2</td>\n",
              "    </tr>\n",
              "    <tr>\n",
              "      <th>21</th>\n",
              "      <td>2.7</td>\n",
              "      <td>3.7</td>\n",
              "      <td>4.6</td>\n",
              "      <td>3</td>\n",
              "    </tr>\n",
              "    <tr>\n",
              "      <th>27</th>\n",
              "      <td>4.0</td>\n",
              "      <td>4.6</td>\n",
              "      <td>5.1</td>\n",
              "      <td>3</td>\n",
              "    </tr>\n",
              "    <tr>\n",
              "      <th>28</th>\n",
              "      <td>3.4</td>\n",
              "      <td>4.6</td>\n",
              "      <td>4.6</td>\n",
              "      <td>3</td>\n",
              "    </tr>\n",
              "    <tr>\n",
              "      <th>30</th>\n",
              "      <td>4.4</td>\n",
              "      <td>4.8</td>\n",
              "      <td>4.6</td>\n",
              "      <td>2</td>\n",
              "    </tr>\n",
              "    <tr>\n",
              "      <th>33</th>\n",
              "      <td>5.5</td>\n",
              "      <td>5.2</td>\n",
              "      <td>5.1</td>\n",
              "      <td>1</td>\n",
              "    </tr>\n",
              "    <tr>\n",
              "      <th>35</th>\n",
              "      <td>6.5</td>\n",
              "      <td>6.3</td>\n",
              "      <td>5.7</td>\n",
              "      <td>1</td>\n",
              "    </tr>\n",
              "    <tr>\n",
              "      <th>39</th>\n",
              "      <td>6.1</td>\n",
              "      <td>6.1</td>\n",
              "      <td>5.5</td>\n",
              "      <td>1</td>\n",
              "    </tr>\n",
              "    <tr>\n",
              "      <th>41</th>\n",
              "      <td>6.1</td>\n",
              "      <td>7.1</td>\n",
              "      <td>7.2</td>\n",
              "      <td>2</td>\n",
              "    </tr>\n",
              "    <tr>\n",
              "      <th>45</th>\n",
              "      <td>2.5</td>\n",
              "      <td>3.2</td>\n",
              "      <td>5.3</td>\n",
              "      <td>3</td>\n",
              "    </tr>\n",
              "    <tr>\n",
              "      <th>46</th>\n",
              "      <td>3.4</td>\n",
              "      <td>4.2</td>\n",
              "      <td>3.1</td>\n",
              "      <td>3</td>\n",
              "    </tr>\n",
              "    <tr>\n",
              "      <th>49</th>\n",
              "      <td>7.0</td>\n",
              "      <td>8.0</td>\n",
              "      <td>7.7</td>\n",
              "      <td>2</td>\n",
              "    </tr>\n",
              "    <tr>\n",
              "      <th>51</th>\n",
              "      <td>4.1</td>\n",
              "      <td>3.7</td>\n",
              "      <td>3.9</td>\n",
              "      <td>3</td>\n",
              "    </tr>\n",
              "    <tr>\n",
              "      <th>57</th>\n",
              "      <td>4.7</td>\n",
              "      <td>6.0</td>\n",
              "      <td>6.5</td>\n",
              "      <td>2</td>\n",
              "    </tr>\n",
              "    <tr>\n",
              "      <th>58</th>\n",
              "      <td>3.9</td>\n",
              "      <td>3.8</td>\n",
              "      <td>4.6</td>\n",
              "      <td>3</td>\n",
              "    </tr>\n",
              "    <tr>\n",
              "      <th>60</th>\n",
              "      <td>4.0</td>\n",
              "      <td>3.9</td>\n",
              "      <td>3.5</td>\n",
              "      <td>3</td>\n",
              "    </tr>\n",
              "  </tbody>\n",
              "</table>\n",
              "</div>"
            ],
            "text/plain": [
              "     x1   x2   x3  Kelas\n",
              "3   6.2  6.2  6.1      1\n",
              "5   5.9  5.9  5.7      1\n",
              "9   5.9  6.1  5.6      1\n",
              "11  6.2  6.8  7.5      2\n",
              "15  6.6  6.4  4.6      1\n",
              "16  6.1  6.7  5.8      2\n",
              "19  5.0  5.6  5.8      2\n",
              "21  2.7  3.7  4.6      3\n",
              "27  4.0  4.6  5.1      3\n",
              "28  3.4  4.6  4.6      3\n",
              "30  4.4  4.8  4.6      2\n",
              "33  5.5  5.2  5.1      1\n",
              "35  6.5  6.3  5.7      1\n",
              "39  6.1  6.1  5.5      1\n",
              "41  6.1  7.1  7.2      2\n",
              "45  2.5  3.2  5.3      3\n",
              "46  3.4  4.2  3.1      3\n",
              "49  7.0  8.0  7.7      2\n",
              "51  4.1  3.7  3.9      3\n",
              "57  4.7  6.0  6.5      2\n",
              "58  3.9  3.8  4.6      3\n",
              "60  4.0  3.9  3.5      3"
            ]
          },
          "metadata": {
            "tags": []
          },
          "execution_count": 250
        }
      ]
    }
  ]
}